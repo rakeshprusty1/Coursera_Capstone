{
    "nbformat_minor": 1, 
    "cells": [
        {
            "source": "# IBM Data Science Specialization Final Capstone Project", 
            "cell_type": "markdown", 
            "metadata": {
                "collapsed": true
            }
        }, 
        {
            "source": "## Introduction", 
            "cell_type": "markdown", 
            "metadata": {}
        }, 
        {
            "source": "**Audience/User** - Aspiring Sports Goods Store Owners\n\n**Business Problem** - A sports enthusiast is planning to open a Sports Goods store in the city of Toronto. She does a market research and came up with a hypothesis that it's always less risky to open a Sports Goods store in the areas where sports/fitness centers are located in close proximity. This project will recommend the areas to the User where she can open a store.   ", 
            "cell_type": "markdown", 
            "metadata": {}
        }, 
        {
            "source": "## Data", 
            "cell_type": "markdown", 
            "metadata": {}
        }, 
        {
            "source": "1. Toronto Postal Code and Neighborhood data will be used from the wiki page - https://en.wikipedia.org/wiki/List_of_postal_codes_of_Canada:_M\n2. Geo Coordinates will be used from the csv file provided - 'Geospatial_Coordinates.csv'\n3. Foursquare Data will be used to analyze different venues in the neighborhoods ", 
            "cell_type": "markdown", 
            "metadata": {}
        }, 
        {
            "source": "## Method", 
            "cell_type": "markdown", 
            "metadata": {}
        }, 
        {
            "source": "**Data Collection**\n1. Toronto Poatal Code and Neighborhood data will be collected from the above mentioned wiki page with help of 'wikipedia' library\n2. 'Geospatial_Coordinates.csv' will be imported and merged with the Neighborhood data for further processing\n3. Foursquare Data will be collected with help of API", 
            "cell_type": "markdown", 
            "metadata": {}
        }, 
        {
            "source": "**Data Wrangling**\n1. Neighborhood data will be wrangled by removing unassigned values to Borough and by renaming the columns\n2. Geospatial coordinates data will be merged to the Neighborhood data to generate the final dataframe ", 
            "cell_type": "markdown", 
            "metadata": {}
        }, 
        {
            "source": "**Python Functions**\n1. A Python function will be written to get top 100 venues in the neighborhoods in Toronto\n2. Each Neighborhood will be analyzed by one hot encoding to produce frequency of occurence of different venues in each neighborhood\n3. Filter only the velues related to Sports/Fitness. e.g - Parks, Gym, Playground, Fitness Center etc. ", 
            "cell_type": "markdown", 
            "metadata": {}
        }, 
        {
            "source": "**K-Means Clustering**\n1. Perform a K-Means clustering with an appropriate K\n2. Add the Cluster labels to the original dataframe", 
            "cell_type": "markdown", 
            "metadata": {}
        }, 
        {
            "source": "**Data Visualization**\n1. Visualize Cluster data by a Box Plot or similar statistical chart to visualize which clusters of neighborhood have maximum occurance of Sports/Fitness related venues\n2. Visualize the Neighborhood clusters in the map of Toronto with help of matplotlib and folium", 
            "cell_type": "markdown", 
            "metadata": {}
        }, 
        {
            "execution_count": null, 
            "cell_type": "code", 
            "metadata": {}, 
            "outputs": [], 
            "source": ""
        }
    ], 
    "metadata": {
        "kernelspec": {
            "display_name": "Python 3.6", 
            "name": "python3", 
            "language": "python"
        }, 
        "language_info": {
            "mimetype": "text/x-python", 
            "nbconvert_exporter": "python", 
            "version": "3.6.8", 
            "name": "python", 
            "file_extension": ".py", 
            "pygments_lexer": "ipython3", 
            "codemirror_mode": {
                "version": 3, 
                "name": "ipython"
            }
        }
    }, 
    "nbformat": 4
}